{
 "cells": [
  {
   "cell_type": "code",
   "execution_count": null,
   "metadata": {},
   "outputs": [],
   "source": [
    "import stats_descriptive\n",
    "import pandas as pd\n",
    "\n",
    "data = pd.read_csv(\"forbes_2022_billionaires.csv\")\n",
    "\n",
    "\n",
    "def test_values():\n",
    "    assert (stats_descriptive.stats_mean(data)) == 64.21068938807126\n",
    "    assert (stats_descriptive.stats_median(data)) == 64.0\n",
    "    assert (stats_descriptive.stats_std(data)) == 13.401258058138897\n",
    "\n",
    "\n",
    "test_values()"
   ]
  }
 ],
 "metadata": {
  "language_info": {
   "name": "python"
  },
  "orig_nbformat": 4
 },
 "nbformat": 4,
 "nbformat_minor": 2
}
