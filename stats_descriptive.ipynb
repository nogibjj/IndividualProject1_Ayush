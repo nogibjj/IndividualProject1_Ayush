{
 "cells": [
  {
   "cell_type": "code",
   "execution_count": null,
   "metadata": {},
   "outputs": [],
   "source": [
    "import polars as pl\n",
    "\n",
    "data = pl.read_csv(\"forbes_2022_billionaires.csv\")\n",
    "\n",
    "\n",
    "def stats_mean(df):\n",
    "    return df[\"age\"].mean()\n",
    "\n",
    "\n",
    "def stats_median(df):\n",
    "    return df[\"age\"].median()\n",
    "\n",
    "\n",
    "def stats_std(df):\n",
    "    return df[\"age\"].std()\n",
    "\n",
    "\n",
    "print(\"mean =\", stats_mean(data))\n",
    "print(\"median =\", stats_median(data))\n",
    "print(\"Standard_deviation =\", stats_std(data))"
   ]
  }
 ],
 "metadata": {
  "language_info": {
   "name": "python"
  },
  "orig_nbformat": 4
 },
 "nbformat": 4,
 "nbformat_minor": 2
}
