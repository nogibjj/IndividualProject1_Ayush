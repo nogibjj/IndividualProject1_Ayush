{
 "cells": [
  {
   "cell_type": "code",
   "execution_count": 4,
   "metadata": {},
   "outputs": [
    {
     "ename": "ModuleNotFoundError",
     "evalue": "No module named 'polars'",
     "output_type": "error",
     "traceback": [
      "\u001b[1;31m---------------------------------------------------------------------------\u001b[0m",
      "\u001b[1;31mModuleNotFoundError\u001b[0m                       Traceback (most recent call last)",
      "\u001b[1;32mc:\\Users\\ayush\\IndividualProject3_Ayush\\stats_descriptive.ipynb Cell 1\u001b[0m line \u001b[0;36m1\n\u001b[1;32m----> <a href='vscode-notebook-cell:/c%3A/Users/ayush/IndividualProject3_Ayush/stats_descriptive.ipynb#W0sZmlsZQ%3D%3D?line=0'>1</a>\u001b[0m \u001b[39mfrom\u001b[39;00m \u001b[39mlib\u001b[39;00m \u001b[39mimport\u001b[39;00m stats_mean, stats_median, stats_std\n\u001b[0;32m      <a href='vscode-notebook-cell:/c%3A/Users/ayush/IndividualProject3_Ayush/stats_descriptive.ipynb#W0sZmlsZQ%3D%3D?line=2'>3</a>\u001b[0m data \u001b[39m=\u001b[39m pl\u001b[39m.\u001b[39mread_csv(\u001b[39m\"\u001b[39m\u001b[39mforbes_2022_billionaires.csv\u001b[39m\u001b[39m\"\u001b[39m)\n\u001b[0;32m      <a href='vscode-notebook-cell:/c%3A/Users/ayush/IndividualProject3_Ayush/stats_descriptive.ipynb#W0sZmlsZQ%3D%3D?line=5'>6</a>\u001b[0m \u001b[39mprint\u001b[39m(\u001b[39m\"\u001b[39m\u001b[39mmean =\u001b[39m\u001b[39m\"\u001b[39m, stats_mean(data))\n",
      "File \u001b[1;32mc:\\Users\\ayush\\IndividualProject3_Ayush\\lib.py:1\u001b[0m\n\u001b[1;32m----> 1\u001b[0m \u001b[39mimport\u001b[39;00m \u001b[39mpolars\u001b[39;00m \u001b[39mas\u001b[39;00m \u001b[39mpl\u001b[39;00m\n\u001b[0;32m      2\u001b[0m \u001b[39mfrom\u001b[39;00m \u001b[39mlib\u001b[39;00m \u001b[39mimport\u001b[39;00m add_numbers, subtract_numbers\n\u001b[0;32m      4\u001b[0m data \u001b[39m=\u001b[39m pl\u001b[39m.\u001b[39mread_csv(\u001b[39m\"\u001b[39m\u001b[39mforbes_2022_billionaires.csv\u001b[39m\u001b[39m\"\u001b[39m)\n",
      "\u001b[1;31mModuleNotFoundError\u001b[0m: No module named 'polars'"
     ]
    }
   ],
   "source": [
    "from lib import stats_mean, stats_median, stats_std\n",
    "\n",
    "data = pl.read_csv(\"forbes_2022_billionaires.csv\")\n",
    "\n",
    "\n",
    "print(\"mean =\", stats_mean(data))\n",
    "print(\"median =\", stats_median(data))\n",
    "print(\"Standard_deviation =\", stats_std(data))"
   ]
  },
  {
   "cell_type": "code",
   "execution_count": null,
   "metadata": {},
   "outputs": [],
   "source": []
  }
 ],
 "metadata": {
  "kernelspec": {
   "display_name": "base",
   "language": "python",
   "name": "python3"
  },
  "language_info": {
   "codemirror_mode": {
    "name": "ipython",
    "version": 3
   },
   "file_extension": ".py",
   "mimetype": "text/x-python",
   "name": "python",
   "nbconvert_exporter": "python",
   "pygments_lexer": "ipython3",
   "version": "3.11.5"
  },
  "orig_nbformat": 4
 },
 "nbformat": 4,
 "nbformat_minor": 2
}
